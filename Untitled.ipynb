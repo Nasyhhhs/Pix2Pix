{
 "cells": [
  {
   "cell_type": "code",
   "execution_count": 1,
   "id": "46685da8-c52e-4808-b968-2655f363a23f",
   "metadata": {},
   "outputs": [
    {
     "ename": "ModuleNotFoundError",
     "evalue": "No module named 'super_image'",
     "output_type": "error",
     "traceback": [
      "\u001b[1;31m---------------------------------------------------------------------------\u001b[0m",
      "\u001b[1;31mModuleNotFoundError\u001b[0m                       Traceback (most recent call last)",
      "\u001b[1;32m~\\AppData\\Local\\Temp/ipykernel_7216/792705673.py\u001b[0m in \u001b[0;36m<module>\u001b[1;34m\u001b[0m\n\u001b[1;32m----> 1\u001b[1;33m \u001b[1;32mfrom\u001b[0m \u001b[0msuper_image\u001b[0m \u001b[1;32mimport\u001b[0m \u001b[0mEdsrModel\u001b[0m\u001b[1;33m,\u001b[0m \u001b[0mImageLoader\u001b[0m\u001b[1;33m\u001b[0m\u001b[1;33m\u001b[0m\u001b[0m\n\u001b[0m\u001b[0;32m      2\u001b[0m \u001b[1;32mfrom\u001b[0m \u001b[0mPIL\u001b[0m \u001b[1;32mimport\u001b[0m \u001b[0mImage\u001b[0m\u001b[1;33m\u001b[0m\u001b[1;33m\u001b[0m\u001b[0m\n\u001b[0;32m      3\u001b[0m \u001b[1;32mimport\u001b[0m \u001b[0mrequests\u001b[0m\u001b[1;33m\u001b[0m\u001b[1;33m\u001b[0m\u001b[0m\n\u001b[0;32m      4\u001b[0m \u001b[1;33m\u001b[0m\u001b[0m\n\u001b[0;32m      5\u001b[0m \u001b[0murl\u001b[0m \u001b[1;33m=\u001b[0m \u001b[1;34m'https://paperswithcode.com/media/datasets/Set5-0000002728-07a9793f_zA3bDjj.jpg'\u001b[0m\u001b[1;33m\u001b[0m\u001b[1;33m\u001b[0m\u001b[0m\n",
      "\u001b[1;31mModuleNotFoundError\u001b[0m: No module named 'super_image'"
     ]
    }
   ],
   "source": [
    "from super_image import EdsrModel, ImageLoader\n",
    "from PIL import Image\n",
    "import requests\n",
    "\n",
    "url = 'https://paperswithcode.com/media/datasets/Set5-0000002728-07a9793f_zA3bDjj.jpg'\n",
    "image = Image.open(requests.get(url, stream=True).raw)\n",
    "\n",
    "model = EdsrModel.from_pretrained('eugenesiow/edsr-base', scale=2)\n",
    "inputs = ImageLoader.load_image(image)\n",
    "preds = model(inputs)\n",
    "\n",
    "ImageLoader.save_image(preds, './scaled_2x.png')\n",
    "ImageLoader.save_compare(inputs, preds, './scaled_2x_compare.png')"
   ]
  },
  {
   "cell_type": "code",
   "execution_count": null,
   "id": "c78cc52f-77fe-4a1a-9390-ba9c8e217ff1",
   "metadata": {},
   "outputs": [],
   "source": [
    "!pip install super_image"
   ]
  },
  {
   "cell_type": "code",
   "execution_count": null,
   "id": "430de6c8-f3cc-48fc-b77b-11403ca1c4ac",
   "metadata": {},
   "outputs": [],
   "source": []
  }
 ],
 "metadata": {
  "kernelspec": {
   "display_name": "Python 3 (ipykernel)",
   "language": "python",
   "name": "python3"
  },
  "language_info": {
   "codemirror_mode": {
    "name": "ipython",
    "version": 3
   },
   "file_extension": ".py",
   "mimetype": "text/x-python",
   "name": "python",
   "nbconvert_exporter": "python",
   "pygments_lexer": "ipython3",
   "version": "3.9.7"
  }
 },
 "nbformat": 4,
 "nbformat_minor": 5
}
