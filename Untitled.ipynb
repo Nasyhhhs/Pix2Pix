{
 "cells": [
  {
   "cell_type": "code",
   "execution_count": 1,
   "id": "392940df-301a-413a-8fba-30942de5d932",
   "metadata": {},
   "outputs": [],
   "source": [
    "from sklearn.datasets import fetch_california_housing\n"
   ]
  },
  {
   "cell_type": "code",
   "execution_count": 2,
   "id": "ca32fa89-84de-4156-94e5-f5bb3eb82bb0",
   "metadata": {},
   "outputs": [],
   "source": [
    "data = fetch_california_housing(as_frame=True, return_X_y=True)\n"
   ]
  },
  {
   "cell_type": "code",
   "execution_count": 3,
   "id": "482fc110-f323-4b04-a6f2-a37ec3abba64",
   "metadata": {},
   "outputs": [],
   "source": [
    "df, target = data[0], data[1]"
   ]
  },
  {
   "cell_type": "code",
   "execution_count": null,
   "id": "75f4e5cf-bae9-4a9c-95ce-9085298ab18a",
   "metadata": {},
   "outputs": [],
   "source": []
  }
 ],
 "metadata": {
  "kernelspec": {
   "display_name": "Python 3 (ipykernel)",
   "language": "python",
   "name": "python3"
  },
  "language_info": {
   "codemirror_mode": {
    "name": "ipython",
    "version": 3
   },
   "file_extension": ".py",
   "mimetype": "text/x-python",
   "name": "python",
   "nbconvert_exporter": "python",
   "pygments_lexer": "ipython3",
   "version": "3.9.7"
  }
 },
 "nbformat": 4,
 "nbformat_minor": 5
}
